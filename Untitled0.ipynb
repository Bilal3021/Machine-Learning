{
  "nbformat": 4,
  "nbformat_minor": 0,
  "metadata": {
    "colab": {
      "name": "Untitled0.ipynb",
      "provenance": [],
      "authorship_tag": "ABX9TyMEHg1uofYrxeeOCC7INKxP",
      "include_colab_link": true
    },
    "kernelspec": {
      "name": "python3",
      "display_name": "Python 3"
    },
    "language_info": {
      "name": "python"
    }
  },
  "cells": [
    {
      "cell_type": "markdown",
      "metadata": {
        "id": "view-in-github",
        "colab_type": "text"
      },
      "source": [
        "<a href=\"https://colab.research.google.com/github/Bilal3021/Machine-Learning/blob/main/Untitled0.ipynb\" target=\"_parent\"><img src=\"https://colab.research.google.com/assets/colab-badge.svg\" alt=\"Open In Colab\"/></a>"
      ]
    },
    {
      "cell_type": "code",
      "metadata": {
        "id": "hGM6uo_K8KbN",
        "colab": {
          "base_uri": "https://localhost:8080/"
        },
        "outputId": "7c0a322e-319b-4418-8904-de2368ce534e"
      },
      "source": [
        "from numpy import *\n",
        "N0=2 #input neurons\n",
        "N1=3 #hidden neurons in first layer\n",
        "N2=2 #hidden neurons in second layer\n",
        "N3=1 #output neurons\n",
        "w1=array([[1,0],[-1,-1],[0,1]]) #weight matrix for input layer\n",
        "b1=array([-1,1.5,-1]) #bias vector for input layer\n",
        "\n",
        "w2=array([[-1,-1,0],[0,-1,-1]]) #weight matrix for first hidden layer\n",
        "b2=array([1.5,1.5])#bias vector for first hidden layer\n",
        "\n",
        "w3=array([-1,-1])#weight matrix for second hidden layer\n",
        "b3=array([1.5])#bias vector for second hidden layer\n",
        "\n",
        "def apply_layer(y_in,w,b): #calculates output of a single layer\n",
        "  z=dot(w,y_in)+b\n",
        "  return heaviside(z,1)\n",
        "\n",
        "def apply_net(y_in): #processes the input through the whole neural network\n",
        "  y1=apply_layer(y_in,w1,b1)\n",
        "  y2=apply_layer(y1,w2,b2)\n",
        "  y3=apply_layer(y2,w3,b3)\n",
        "  return y3\n",
        "\n",
        "print(apply_net([1,0]) #results of XOR\n",
        ",apply_net([0,1])\n",
        ",apply_net([1,1])\n",
        ",apply_net([0,0]))"
      ],
      "execution_count": null,
      "outputs": [
        {
          "output_type": "stream",
          "text": [
            "[1.] [1.] [0.] [0.]\n"
          ],
          "name": "stdout"
        }
      ]
    },
    {
      "cell_type": "code",
      "metadata": {
        "id": "sB2-0lAM8Mnt"
      },
      "source": [
        ""
      ],
      "execution_count": null,
      "outputs": []
    }
  ]
}